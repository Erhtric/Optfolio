{
 "cells": [
  {
   "cell_type": "code",
   "execution_count": 2,
   "source": [
    "from typing import List\r\n",
    "import pandas as pd\r\n",
    "import numpy as np\r\n",
    "from yahoofinancials import YahooFinancials\r\n",
    "import matplotlib.pyplot as plt"
   ],
   "outputs": [],
   "metadata": {}
  },
  {
   "cell_type": "code",
   "execution_count": 3,
   "source": [
    "def get_history_data(tickers:List[str], start_date:str, end_date:str):\r\n",
    "    print('...Downloading data...')\r\n",
    "    print(f'Starting date: {start_date}')\r\n",
    "    print(f'Ending date: {end_date}')\r\n",
    "\r\n",
    "    frames = []\r\n",
    "    for ticker in tickers:\r\n",
    "        tickerData = YahooFinancials(ticker).get_historical_price_data(start_date, end_date, time_interval='daily')\r\n",
    "        tickerDf = pd.DataFrame(tickerData[ticker]['prices']).drop('date', axis=1).set_index('formatted_date')\r\n",
    "        tickerDf.insert(0, 'ticker', ticker, True)\r\n",
    "        tickerDf.to_csv(f'./data/{ticker}.csv')\r\n",
    "        frames.append(tickerDf)\r\n",
    "\r\n",
    "    DATA = pd.concat(frames)\r\n",
    "    DATA.to_csv('./data/ASSET_DATA.csv')\r\n",
    "    return DATA"
   ],
   "outputs": [],
   "metadata": {}
  },
  {
   "cell_type": "code",
   "execution_count": 4,
   "source": [
    "assets = ['TSLA', 'GME', \"AAPL\"]\r\n",
    "sd = '2014-01-01'\r\n",
    "ed = '2016-12-31'\r\n",
    "DATA = get_history_data(assets, start_date=sd, end_date=ed)"
   ],
   "outputs": [
    {
     "output_type": "stream",
     "name": "stdout",
     "text": [
      "...Downloading data...\n",
      "Starting date: 2014-01-01\n",
      "Ending date: 2016-12-31\n"
     ]
    }
   ],
   "metadata": {}
  },
  {
   "cell_type": "code",
   "execution_count": 6,
   "source": [
    "close = DATA[['close', 'ticker']]\r\n",
    "close"
   ],
   "outputs": [
    {
     "output_type": "execute_result",
     "data": {
      "text/html": [
       "<div>\n",
       "<style scoped>\n",
       "    .dataframe tbody tr th:only-of-type {\n",
       "        vertical-align: middle;\n",
       "    }\n",
       "\n",
       "    .dataframe tbody tr th {\n",
       "        vertical-align: top;\n",
       "    }\n",
       "\n",
       "    .dataframe thead th {\n",
       "        text-align: right;\n",
       "    }\n",
       "</style>\n",
       "<table border=\"1\" class=\"dataframe\">\n",
       "  <thead>\n",
       "    <tr style=\"text-align: right;\">\n",
       "      <th></th>\n",
       "      <th>close</th>\n",
       "      <th>ticker</th>\n",
       "    </tr>\n",
       "    <tr>\n",
       "      <th>formatted_date</th>\n",
       "      <th></th>\n",
       "      <th></th>\n",
       "    </tr>\n",
       "  </thead>\n",
       "  <tbody>\n",
       "    <tr>\n",
       "      <th>2014-01-02</th>\n",
       "      <td>30.020000</td>\n",
       "      <td>TSLA</td>\n",
       "    </tr>\n",
       "    <tr>\n",
       "      <th>2014-01-03</th>\n",
       "      <td>29.912001</td>\n",
       "      <td>TSLA</td>\n",
       "    </tr>\n",
       "    <tr>\n",
       "      <th>2014-01-06</th>\n",
       "      <td>29.400000</td>\n",
       "      <td>TSLA</td>\n",
       "    </tr>\n",
       "    <tr>\n",
       "      <th>2014-01-07</th>\n",
       "      <td>29.872000</td>\n",
       "      <td>TSLA</td>\n",
       "    </tr>\n",
       "    <tr>\n",
       "      <th>2014-01-08</th>\n",
       "      <td>30.256001</td>\n",
       "      <td>TSLA</td>\n",
       "    </tr>\n",
       "    <tr>\n",
       "      <th>...</th>\n",
       "      <td>...</td>\n",
       "      <td>...</td>\n",
       "    </tr>\n",
       "    <tr>\n",
       "      <th>2016-12-23</th>\n",
       "      <td>29.129999</td>\n",
       "      <td>AAPL</td>\n",
       "    </tr>\n",
       "    <tr>\n",
       "      <th>2016-12-27</th>\n",
       "      <td>29.315001</td>\n",
       "      <td>AAPL</td>\n",
       "    </tr>\n",
       "    <tr>\n",
       "      <th>2016-12-28</th>\n",
       "      <td>29.190001</td>\n",
       "      <td>AAPL</td>\n",
       "    </tr>\n",
       "    <tr>\n",
       "      <th>2016-12-29</th>\n",
       "      <td>29.182501</td>\n",
       "      <td>AAPL</td>\n",
       "    </tr>\n",
       "    <tr>\n",
       "      <th>2016-12-30</th>\n",
       "      <td>28.955000</td>\n",
       "      <td>AAPL</td>\n",
       "    </tr>\n",
       "  </tbody>\n",
       "</table>\n",
       "<p>2268 rows × 2 columns</p>\n",
       "</div>"
      ],
      "text/plain": [
       "                    close ticker\n",
       "formatted_date                  \n",
       "2014-01-02      30.020000   TSLA\n",
       "2014-01-03      29.912001   TSLA\n",
       "2014-01-06      29.400000   TSLA\n",
       "2014-01-07      29.872000   TSLA\n",
       "2014-01-08      30.256001   TSLA\n",
       "...                   ...    ...\n",
       "2016-12-23      29.129999   AAPL\n",
       "2016-12-27      29.315001   AAPL\n",
       "2016-12-28      29.190001   AAPL\n",
       "2016-12-29      29.182501   AAPL\n",
       "2016-12-30      28.955000   AAPL\n",
       "\n",
       "[2268 rows x 2 columns]"
      ]
     },
     "metadata": {},
     "execution_count": 6
    }
   ],
   "metadata": {}
  },
  {
   "cell_type": "code",
   "execution_count": 16,
   "source": [
    "def compute_individual_exp():\r\n",
    "        \"\"\"\r\n",
    "        Computes the vector of the individual assets' expected returns\r\n",
    "        \"\"\"\r\n",
    "        mean = np.zeros(len(assets))\r\n",
    "        for count, ticker in enumerate(assets):\r\n",
    "            close = DATA['close'][DATA['ticker']==ticker]\r\n",
    "            mean[count] = close.mean()\r\n",
    "        return mean"
   ],
   "outputs": [],
   "metadata": {}
  },
  {
   "cell_type": "code",
   "execution_count": 17,
   "source": [
    "compute_individual_exp()"
   ],
   "outputs": [
    {
     "output_type": "execute_result",
     "data": {
      "text/plain": [
       "array([44.20928313, 36.05310842, 26.40905517])"
      ]
     },
     "metadata": {},
     "execution_count": 17
    }
   ],
   "metadata": {}
  },
  {
   "cell_type": "code",
   "execution_count": null,
   "source": [],
   "outputs": [],
   "metadata": {}
  }
 ],
 "metadata": {
  "orig_nbformat": 4,
  "language_info": {
   "name": "python",
   "version": "3.8.11",
   "mimetype": "text/x-python",
   "codemirror_mode": {
    "name": "ipython",
    "version": 3
   },
   "pygments_lexer": "ipython3",
   "nbconvert_exporter": "python",
   "file_extension": ".py"
  },
  "kernelspec": {
   "name": "python3",
   "display_name": "Python 3.8.11 64-bit ('cdmo2': conda)"
  },
  "interpreter": {
   "hash": "2c73ef39c706d220c1c5bd276d7591cc1eb7ebc110325f3855049b33888b2415"
  }
 },
 "nbformat": 4,
 "nbformat_minor": 2
}