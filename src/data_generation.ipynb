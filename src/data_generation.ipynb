{
 "cells": [
  {
   "cell_type": "code",
   "execution_count": 8,
   "metadata": {},
   "outputs": [],
   "source": [
    "import portfolio_lp_1\r\n",
    "import pandas as pd\r\n",
    "import numpy as np"
   ]
  },
  {
   "cell_type": "code",
   "execution_count": 2,
   "metadata": {},
   "outputs": [
    {
     "name": "stdout",
     "output_type": "stream",
     "text": [
      "************************************************************\n",
      "...Starting portfolio session...\n",
      "Total number of assets in the portfolio: 3\n",
      "Initial amount invested: 1000 $\n",
      "  Ticker\tInitial Weights\n",
      "  GME\t\t0.2\n",
      "  AAPL\t\t0.2\n",
      "  TSLA\t\t0.6\n",
      "************************************************************\n"
     ]
    }
   ],
   "source": [
    "pf = portfolio_lp_1.Portfolio([\"GME\", \"AAPL\", \"TSLA\"], 1000, [0.2, 0.2, 0.6], \"2019-01-01\", \"2020-01-01\")"
   ]
  },
  {
   "cell_type": "code",
   "execution_count": 24,
   "metadata": {},
   "outputs": [
    {
     "data": {
      "text/plain": "Index(['Open', 'High', 'Low', 'Close', 'Volume', 'Dividends', 'Ticker'], dtype='object')"
     },
     "execution_count": 24,
     "metadata": {},
     "output_type": "execute_result"
    }
   ],
   "source": [
    "df = pf.asset_data\r\n",
    "df.head()\r\n",
    "df.columns"
   ]
  },
  {
   "cell_type": "code",
   "execution_count": 4,
   "metadata": {},
   "outputs": [
    {
     "data": {
      "text/html": "<div>\n<style scoped>\n    .dataframe tbody tr th:only-of-type {\n        vertical-align: middle;\n    }\n\n    .dataframe tbody tr th {\n        vertical-align: top;\n    }\n\n    .dataframe thead th {\n        text-align: right;\n    }\n</style>\n<table border=\"1\" class=\"dataframe\">\n  <thead>\n    <tr style=\"text-align: right;\">\n      <th></th>\n      <th>Close</th>\n      <th>Ticker</th>\n    </tr>\n    <tr>\n      <th>Date</th>\n      <th></th>\n      <th></th>\n    </tr>\n  </thead>\n  <tbody>\n    <tr>\n      <th>2018-12-31</th>\n      <td>12.205872</td>\n      <td>GME</td>\n    </tr>\n    <tr>\n      <th>2019-01-02</th>\n      <td>12.641105</td>\n      <td>GME</td>\n    </tr>\n    <tr>\n      <th>2019-01-03</th>\n      <td>12.544387</td>\n      <td>GME</td>\n    </tr>\n    <tr>\n      <th>2019-01-04</th>\n      <td>14.739896</td>\n      <td>GME</td>\n    </tr>\n    <tr>\n      <th>2019-01-07</th>\n      <td>14.972020</td>\n      <td>GME</td>\n    </tr>\n    <tr>\n      <th>...</th>\n      <td>...</td>\n      <td>...</td>\n    </tr>\n    <tr>\n      <th>2019-12-24</th>\n      <td>85.050003</td>\n      <td>TSLA</td>\n    </tr>\n    <tr>\n      <th>2019-12-26</th>\n      <td>86.188004</td>\n      <td>TSLA</td>\n    </tr>\n    <tr>\n      <th>2019-12-27</th>\n      <td>86.075996</td>\n      <td>TSLA</td>\n    </tr>\n    <tr>\n      <th>2019-12-30</th>\n      <td>82.940002</td>\n      <td>TSLA</td>\n    </tr>\n    <tr>\n      <th>2019-12-31</th>\n      <td>83.666000</td>\n      <td>TSLA</td>\n    </tr>\n  </tbody>\n</table>\n<p>759 rows × 2 columns</p>\n</div>",
      "text/plain": "                Close Ticker\nDate                        \n2018-12-31  12.205872    GME\n2019-01-02  12.641105    GME\n2019-01-03  12.544387    GME\n2019-01-04  14.739896    GME\n2019-01-07  14.972020    GME\n...               ...    ...\n2019-12-24  85.050003   TSLA\n2019-12-26  86.188004   TSLA\n2019-12-27  86.075996   TSLA\n2019-12-30  82.940002   TSLA\n2019-12-31  83.666000   TSLA\n\n[759 rows x 2 columns]"
     },
     "execution_count": 4,
     "metadata": {},
     "output_type": "execute_result"
    }
   ],
   "source": [
    "closing_prices = df[['Close','Ticker']]\r\n",
    "closing_prices"
   ]
  },
  {
   "cell_type": "markdown",
   "metadata": {},
   "source": [
    "We redistribute the stock data in a single matrix where each column contains the closing prices relative to the respective Ticker ordered chronologically."
   ]
  },
  {
   "cell_type": "code",
   "execution_count": 5,
   "metadata": {},
   "outputs": [],
   "source": [
    "sym_df = pd.DataFrame()\r\n",
    "for sym in pf.assets:\r\n",
    "    df = closing_prices[closing_prices['Ticker'] == sym]\r\n",
    "    sym_df.insert(loc=len(sym_df.columns), column=sym, value=df['Close'])"
   ]
  },
  {
   "cell_type": "code",
   "execution_count": 6,
   "metadata": {},
   "outputs": [
    {
     "data": {
      "text/html": "<div>\n<style scoped>\n    .dataframe tbody tr th:only-of-type {\n        vertical-align: middle;\n    }\n\n    .dataframe tbody tr th {\n        vertical-align: top;\n    }\n\n    .dataframe thead th {\n        text-align: right;\n    }\n</style>\n<table border=\"1\" class=\"dataframe\">\n  <thead>\n    <tr style=\"text-align: right;\">\n      <th></th>\n      <th>GME</th>\n      <th>AAPL</th>\n      <th>TSLA</th>\n    </tr>\n    <tr>\n      <th>Date</th>\n      <th></th>\n      <th></th>\n      <th></th>\n    </tr>\n  </thead>\n  <tbody>\n    <tr>\n      <th>2018-12-31</th>\n      <td>12.205872</td>\n      <td>38.395920</td>\n      <td>66.559998</td>\n    </tr>\n    <tr>\n      <th>2019-01-02</th>\n      <td>12.641105</td>\n      <td>38.439735</td>\n      <td>62.023998</td>\n    </tr>\n    <tr>\n      <th>2019-01-03</th>\n      <td>12.544387</td>\n      <td>34.610851</td>\n      <td>60.071999</td>\n    </tr>\n    <tr>\n      <th>2019-01-04</th>\n      <td>14.739896</td>\n      <td>36.088364</td>\n      <td>63.537998</td>\n    </tr>\n    <tr>\n      <th>2019-01-07</th>\n      <td>14.972020</td>\n      <td>36.008041</td>\n      <td>66.991997</td>\n    </tr>\n    <tr>\n      <th>...</th>\n      <td>...</td>\n      <td>...</td>\n      <td>...</td>\n    </tr>\n    <tr>\n      <th>2019-12-24</th>\n      <td>5.440000</td>\n      <td>70.234581</td>\n      <td>85.050003</td>\n    </tr>\n    <tr>\n      <th>2019-12-26</th>\n      <td>5.400000</td>\n      <td>71.628067</td>\n      <td>86.188004</td>\n    </tr>\n    <tr>\n      <th>2019-12-27</th>\n      <td>5.900000</td>\n      <td>71.600876</td>\n      <td>86.075996</td>\n    </tr>\n    <tr>\n      <th>2019-12-30</th>\n      <td>6.130000</td>\n      <td>72.025833</td>\n      <td>82.940002</td>\n    </tr>\n    <tr>\n      <th>2019-12-31</th>\n      <td>6.080000</td>\n      <td>72.552094</td>\n      <td>83.666000</td>\n    </tr>\n  </tbody>\n</table>\n<p>253 rows × 3 columns</p>\n</div>",
      "text/plain": "                  GME       AAPL       TSLA\nDate                                       \n2018-12-31  12.205872  38.395920  66.559998\n2019-01-02  12.641105  38.439735  62.023998\n2019-01-03  12.544387  34.610851  60.071999\n2019-01-04  14.739896  36.088364  63.537998\n2019-01-07  14.972020  36.008041  66.991997\n...               ...        ...        ...\n2019-12-24   5.440000  70.234581  85.050003\n2019-12-26   5.400000  71.628067  86.188004\n2019-12-27   5.900000  71.600876  86.075996\n2019-12-30   6.130000  72.025833  82.940002\n2019-12-31   6.080000  72.552094  83.666000\n\n[253 rows x 3 columns]"
     },
     "execution_count": 6,
     "metadata": {},
     "output_type": "execute_result"
    }
   ],
   "source": [
    "sym_df"
   ]
  },
  {
   "cell_type": "code",
   "execution_count": 20,
   "metadata": {},
   "outputs": [
    {
     "name": "stdout",
     "output_type": "stream",
     "text": [
      "253\n"
     ]
    }
   ],
   "source": [
    "mean = np.mean(sym_df.to_numpy(), axis=0, dtype=np.float64)\r\n",
    "sym_df_demean = sym_df - mean\r\n",
    "m = sym_df.shape[0]\r\n",
    "print(m)\r\n",
    "cov = (sym_df_demean.T @ sym_df_demean) / m"
   ]
  },
  {
   "cell_type": "code",
   "execution_count": 22,
   "metadata": {},
   "outputs": [
    {
     "data": {
      "text/plain": "pandas.core.frame.DataFrame"
     },
     "execution_count": 22,
     "metadata": {},
     "output_type": "execute_result"
    }
   ],
   "source": [
    "type(cov)"
   ]
  }
 ],
 "metadata": {
  "interpreter": {
   "hash": "5eaaa25f1cd831f27202d3d36175bf9a055b68cb8d2d9a8eda25f9c7071e44a8"
  },
  "kernelspec": {
   "display_name": "Python 3.8.8 64-bit ('optfolio': conda)",
   "name": "python3"
  },
  "language_info": {
   "codemirror_mode": {
    "name": "ipython",
    "version": 3
   },
   "file_extension": ".py",
   "mimetype": "text/x-python",
   "name": "python",
   "nbconvert_exporter": "python",
   "pygments_lexer": "ipython3",
   "version": "3.8.8"
  },
  "orig_nbformat": 2
 },
 "nbformat": 4,
 "nbformat_minor": 2
}